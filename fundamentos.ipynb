{
 "cells": [
  {
   "cell_type": "markdown",
   "id": "29b94981-fd7c-48d2-8781-2feb913e9b7c",
   "metadata": {},
   "source": [
    "\n",
    "\n",
    "## python distingue entre mayusculas y minusculas\n"
   ]
  },
  {
   "cell_type": "code",
   "execution_count": 22,
   "id": "e522f367-075e-43e3-9428-1ca9c3e30398",
   "metadata": {},
   "outputs": [
    {
     "name": "stdout",
     "output_type": "stream",
     "text": [
      "el curso es : backendpython\n"
     ]
    }
   ],
   "source": [
    "a = \"backendpython\"\n",
    "print( \"el curso es :\", A )"
   ]
  },
  {
   "cell_type": "code",
   "execution_count": 23,
   "id": "adc981d7-b878-4f14-b11a-d8a96c16ff71",
   "metadata": {},
   "outputs": [
    {
     "name": "stdout",
     "output_type": "stream",
     "text": [
      "\n",
      "Here is a list of the Python keywords.  Enter any keyword to get more help.\n",
      "\n",
      "False               class               from                or\n",
      "None                continue            global              pass\n",
      "True                def                 if                  raise\n",
      "and                 del                 import              return\n",
      "as                  elif                in                  try\n",
      "assert              else                is                  while\n",
      "async               except              lambda              with\n",
      "await               finally             nonlocal            yield\n",
      "break               for                 not                 \n",
      "\n"
     ]
    }
   ],
   "source": [
    "help(\"keywords\")"
   ]
  },
  {
   "cell_type": "code",
   "execution_count": 25,
   "id": "10a1fd36-e853-4d1e-95d2-cba517591561",
   "metadata": {},
   "outputs": [
    {
     "data": {
      "text/plain": [
       "\"'\""
      ]
     },
     "execution_count": 25,
     "metadata": {},
     "output_type": "execute_result"
    }
   ],
   "source": [
    "\"\\'\" # SINGLE QUOTE\n"
   ]
  },
  {
   "cell_type": "code",
   "execution_count": 26,
   "id": "c814727b-cb6e-48d5-8add-7f716119855e",
   "metadata": {},
   "outputs": [
    {
     "ename": "SyntaxError",
     "evalue": "incomplete input (2035095726.py, line 1)",
     "output_type": "error",
     "traceback": [
      "\u001b[1;36m  Cell \u001b[1;32mIn[26], line 1\u001b[1;36m\u001b[0m\n\u001b[1;33m    '''''''''\u001b[0m\n\u001b[1;37m          ^\u001b[0m\n\u001b[1;31mSyntaxError\u001b[0m\u001b[1;31m:\u001b[0m incomplete input\n"
     ]
    }
   ],
   "source": [
    "'''''''''"
   ]
  },
  {
   "cell_type": "code",
   "execution_count": 27,
   "id": "adf8e6d7-1ac2-4529-9e58-0eee430d193f",
   "metadata": {},
   "outputs": [
    {
     "data": {
      "text/plain": [
       "\"'''\""
      ]
     },
     "execution_count": 27,
     "metadata": {},
     "output_type": "execute_result"
    }
   ],
   "source": [
    "\"'''\""
   ]
  },
  {
   "cell_type": "markdown",
   "id": "d1a56809-06c3-4a5c-9782-41ae112b36e0",
   "metadata": {},
   "source": [
    "\"\\\"\" # DOBLE QUOTE"
   ]
  },
  {
   "cell_type": "code",
   "execution_count": 40,
   "id": "b57ffe9d-2f23-4bb8-8952-6d6c9775ccf7",
   "metadata": {},
   "outputs": [
    {
     "name": "stdout",
     "output_type": "stream",
     "text": [
      "Hola \n"
     ]
    }
   ],
   "source": [
    "hello_spanish_hex  = \"\\x48\\x6f\\x6c\\x61 \"\n",
    "print ( hello_spanish_hex)"
   ]
  },
  {
   "cell_type": "code",
   "execution_count": 41,
   "id": "90e65b62-99d3-42d1-b54c-2724bbf10c6c",
   "metadata": {},
   "outputs": [
    {
     "name": "stdout",
     "output_type": "stream",
     "text": [
      "my_number+1000\n"
     ]
    }
   ],
   "source": [
    "my_number = 22\n",
    "print(\"my_number+1000\")"
   ]
  },
  {
   "cell_type": "code",
   "execution_count": null,
   "id": "a1f88a14-b11e-4d53-a78c-8649809a5bfe",
   "metadata": {},
   "outputs": [],
   "source": []
  },
  {
   "cell_type": "code",
   "execution_count": 42,
   "id": "ca43b3ab-a40e-4216-8706-72d651c8cdb8",
   "metadata": {},
   "outputs": [
    {
     "name": "stdout",
     "output_type": "stream",
     "text": [
      "1022\n"
     ]
    }
   ],
   "source": [
    "my_number = 22\n",
    "print(eval(\"my_number+1000\"))"
   ]
  },
  {
   "cell_type": "code",
   "execution_count": 45,
   "id": "a7006d66-ffb0-4021-b6fb-60ad665da3f3",
   "metadata": {},
   "outputs": [
    {
     "name": "stdin",
     "output_type": "stream",
     "text": [
      "ingresa un numero 123\n"
     ]
    }
   ],
   "source": [
    "my_input = input(\"ingresa un numero\")\n",
    "\n"
   ]
  },
  {
   "cell_type": "code",
   "execution_count": 46,
   "id": "1e7485a7-dce6-4e6a-a703-16c0117be74d",
   "metadata": {},
   "outputs": [
    {
     "data": {
      "text/plain": [
       "'123'"
      ]
     },
     "execution_count": 46,
     "metadata": {},
     "output_type": "execute_result"
    }
   ],
   "source": []
  },
  {
   "cell_type": "markdown",
   "id": "a370bc58-4063-4f42-b646-df79ff68c853",
   "metadata": {},
   "source": [
    "## funcion range () y xrange()"
   ]
  },
  {
   "cell_type": "code",
   "execution_count": 47,
   "id": "d2fde185-e8e0-4a30-b30e-7eeb2d19ea51",
   "metadata": {},
   "outputs": [
    {
     "data": {
      "text/plain": [
       "123"
      ]
     },
     "execution_count": 47,
     "metadata": {},
     "output_type": "execute_result"
    }
   ],
   "source": [
    "eval(my_input)"
   ]
  },
  {
   "cell_type": "code",
   "execution_count": 52,
   "id": "754e84ff-1493-4171-86dd-5c87686871c4",
   "metadata": {},
   "outputs": [
    {
     "name": "stdin",
     "output_type": "stream",
     "text": [
      "ingresa un numero: 648\n"
     ]
    },
    {
     "name": "stdout",
     "output_type": "stream",
     "text": [
      "648\n",
      "<class 'int'>\n"
     ]
    }
   ],
   "source": [
    "my_input = eval (input(\"ingresa un numero:\"))\n",
    "\n",
    "print(my_input)\n",
    "print(type(my_input))\n",
    "#cadena / string"
   ]
  },
  {
   "cell_type": "code",
   "execution_count": null,
   "id": "9759a6a6-da9b-4240-91c4-680a20641c61",
   "metadata": {},
   "outputs": [],
   "source": []
  },
  {
   "cell_type": "code",
   "execution_count": 53,
   "id": "e130d48c-7e0e-436d-ac15-6edfb8e88c7a",
   "metadata": {},
   "outputs": [],
   "source": [
    "x = range(10)"
   ]
  },
  {
   "cell_type": "code",
   "execution_count": 54,
   "id": "5834bc83-4790-4a55-8b97-2afbba08ea32",
   "metadata": {},
   "outputs": [
    {
     "data": {
      "text/plain": [
       "range(0, 10)"
      ]
     },
     "execution_count": 54,
     "metadata": {},
     "output_type": "execute_result"
    }
   ],
   "source": [
    "x"
   ]
  },
  {
   "cell_type": "code",
   "execution_count": 55,
   "id": "9619ec18-b9d0-4fff-97ee-caf54185674f",
   "metadata": {},
   "outputs": [
    {
     "name": "stdout",
     "output_type": "stream",
     "text": [
      "0\n",
      "1\n",
      "2\n",
      "3\n",
      "4\n",
      "5\n",
      "6\n",
      "7\n",
      "8\n",
      "9\n"
     ]
    }
   ],
   "source": [
    "for number in x:\n",
    "    print (number)"
   ]
  },
  {
   "cell_type": "code",
   "execution_count": 59,
   "id": "84be3a0b-1510-436a-9336-3b34ed0c716e",
   "metadata": {},
   "outputs": [
    {
     "name": "stdout",
     "output_type": "stream",
     "text": [
      "3\n",
      "4\n",
      "5\n"
     ]
    }
   ],
   "source": [
    "x = range ( 3,6)\n",
    "for number in x:\n",
    "    print(number)\n",
    "    "
   ]
  },
  {
   "cell_type": "code",
   "execution_count": 65,
   "id": "a991e9db-59d2-4c56-8288-9b4a8b9439e3",
   "metadata": {},
   "outputs": [
    {
     "name": "stdout",
     "output_type": "stream",
     "text": [
      "3\n",
      "5\n",
      "7\n",
      "9\n",
      "11\n",
      "13\n",
      "15\n",
      "17\n",
      "19\n",
      "21\n",
      "23\n",
      "25\n",
      "27\n",
      "29\n"
     ]
    }
   ],
   "source": [
    "x = range (3,30,2)\n",
    "for number in x:\n",
    "    print(number)"
   ]
  },
  {
   "cell_type": "markdown",
   "id": "aedbfa10-af1b-4e97-8e11-dbd61451d6f1",
   "metadata": {},
   "source": [
    "## mutabilidad e inmutabilidad"
   ]
  },
  {
   "cell_type": "code",
   "execution_count": 66,
   "id": "abbaab71-dce3-4e7b-bb6a-5674de2d31d1",
   "metadata": {},
   "outputs": [],
   "source": [
    "tuple1=(1,2,3,4,5)"
   ]
  },
  {
   "cell_type": "code",
   "execution_count": 67,
   "id": "36151d11-207e-4a68-a6a0-6095d2fc136f",
   "metadata": {},
   "outputs": [
    {
     "data": {
      "text/plain": [
       "(1, 2, 3, 4, 5)"
      ]
     },
     "execution_count": 67,
     "metadata": {},
     "output_type": "execute_result"
    }
   ],
   "source": [
    "tuple1"
   ]
  },
  {
   "cell_type": "code",
   "execution_count": 68,
   "id": "5b72fe58-f0b3-4166-a162-32d6640f7e26",
   "metadata": {},
   "outputs": [
    {
     "ename": "TypeError",
     "evalue": "'tuple' object does not support item assignment",
     "output_type": "error",
     "traceback": [
      "\u001b[1;31m---------------------------------------------------------------------------\u001b[0m",
      "\u001b[1;31mTypeError\u001b[0m                                 Traceback (most recent call last)",
      "Cell \u001b[1;32mIn[68], line 2\u001b[0m\n\u001b[0;32m      1\u001b[0m \u001b[38;5;66;03m#inmutabilidad\u001b[39;00m\n\u001b[1;32m----> 2\u001b[0m tuple1[\u001b[38;5;241m0\u001b[39m] \u001b[38;5;241m=\u001b[39m\u001b[38;5;241m10\u001b[39m\n",
      "\u001b[1;31mTypeError\u001b[0m: 'tuple' object does not support item assignment"
     ]
    }
   ],
   "source": [
    "#inmutabilidad\n",
    "tuple1[0] =10"
   ]
  },
  {
   "cell_type": "code",
   "execution_count": 69,
   "id": "7d71086a-8bb7-4b7c-ab93-b608119b11a4",
   "metadata": {},
   "outputs": [],
   "source": [
    "my_string = \"aprendiendo sobre inmutabilidad\""
   ]
  },
  {
   "cell_type": "code",
   "execution_count": 70,
   "id": "89fefded-f82f-4674-a259-40d6340b2c5a",
   "metadata": {},
   "outputs": [
    {
     "data": {
      "text/plain": [
       "'aprendiendo sobre inmutabilidad'"
      ]
     },
     "execution_count": 70,
     "metadata": {},
     "output_type": "execute_result"
    }
   ],
   "source": [
    "my_string"
   ]
  },
  {
   "cell_type": "code",
   "execution_count": 71,
   "id": "d18d0fe1-dcb8-4a4c-a359-39396a6fe4ef",
   "metadata": {},
   "outputs": [
    {
     "ename": "TypeError",
     "evalue": "'str' object does not support item assignment",
     "output_type": "error",
     "traceback": [
      "\u001b[1;31m---------------------------------------------------------------------------\u001b[0m",
      "\u001b[1;31mTypeError\u001b[0m                                 Traceback (most recent call last)",
      "Cell \u001b[1;32mIn[71], line 1\u001b[0m\n\u001b[1;32m----> 1\u001b[0m my_string [\u001b[38;5;241m0\u001b[39m] \u001b[38;5;241m=\u001b[39m \u001b[38;5;124m\"\u001b[39m\u001b[38;5;124ma\u001b[39m\u001b[38;5;124m\"\u001b[39m\n",
      "\u001b[1;31mTypeError\u001b[0m: 'str' object does not support item assignment"
     ]
    }
   ],
   "source": [
    "my_string [0] = \"a\""
   ]
  },
  {
   "cell_type": "code",
   "execution_count": 76,
   "id": "0adab723-e67c-4c5c-adb8-9804cf737433",
   "metadata": {},
   "outputs": [],
   "source": [
    "colors = (\"rojo\", \"azul\", \"verde\", \"negro\")"
   ]
  },
  {
   "cell_type": "raw",
   "id": "7fb66f0d-17a1-47bf-8558-4c67d53d1f07",
   "metadata": {},
   "source": [
    "colors"
   ]
  },
  {
   "cell_type": "raw",
   "id": "8ca323fd-92cf-4762-ba23-5fde387a73fc",
   "metadata": {},
   "source": [
    "colors"
   ]
  },
  {
   "cell_type": "code",
   "execution_count": 79,
   "id": "747abeab-a939-484c-a8d2-70a19ffedc3b",
   "metadata": {},
   "outputs": [
    {
     "data": {
      "text/plain": [
       "('rojo', 'azul', 'verde', 'negro')"
      ]
     },
     "execution_count": 79,
     "metadata": {},
     "output_type": "execute_result"
    }
   ],
   "source": [
    "colors"
   ]
  },
  {
   "cell_type": "code",
   "execution_count": 87,
   "id": "15ee0e09-832b-422e-adca-cd13f7aca8b5",
   "metadata": {},
   "outputs": [
    {
     "ename": "TypeError",
     "evalue": "'tuple' object does not support item assignment",
     "output_type": "error",
     "traceback": [
      "\u001b[1;31m---------------------------------------------------------------------------\u001b[0m",
      "\u001b[1;31mTypeError\u001b[0m                                 Traceback (most recent call last)",
      "Cell \u001b[1;32mIn[87], line 1\u001b[0m\n\u001b[1;32m----> 1\u001b[0m colors[\u001b[38;5;241m0\u001b[39m] \u001b[38;5;241m=\u001b[39m \u001b[38;5;124m\"\u001b[39m\u001b[38;5;124mblanco\u001b[39m\u001b[38;5;124m\"\u001b[39m\n",
      "\u001b[1;31mTypeError\u001b[0m: 'tuple' object does not support item assignment"
     ]
    }
   ],
   "source": [
    "colors[0] = \"blanco\""
   ]
  },
  {
   "cell_type": "code",
   "execution_count": 88,
   "id": "59c6d7c4-2205-4fcb-bbf0-23ab6dd709c2",
   "metadata": {},
   "outputs": [
    {
     "data": {
      "text/plain": [
       "('rojo', 'azul', 'verde', 'negro')"
      ]
     },
     "execution_count": 88,
     "metadata": {},
     "output_type": "execute_result"
    }
   ],
   "source": [
    "colors"
   ]
  },
  {
   "cell_type": "markdown",
   "id": "6e921830-016c-481b-a1e6-a8748c246b75",
   "metadata": {},
   "source": [
    "# funcion print ()"
   ]
  },
  {
   "cell_type": "code",
   "execution_count": 89,
   "id": "e4a85558-67a3-452d-aa2d-eb4a11bef7ea",
   "metadata": {},
   "outputs": [],
   "source": [
    "# mostrar resultado"
   ]
  },
  {
   "cell_type": "code",
   "execution_count": 175,
   "id": "87e6ff2c-20d0-460b-a764-aa8577311fcf",
   "metadata": {},
   "outputs": [
    {
     "ename": "TypeError",
     "evalue": "str() argument 'encoding' must be str, not int",
     "output_type": "error",
     "traceback": [
      "\u001b[1;31m---------------------------------------------------------------------------\u001b[0m",
      "\u001b[1;31mTypeError\u001b[0m                                 Traceback (most recent call last)",
      "Cell \u001b[1;32mIn[175], line 2\u001b[0m\n\u001b[0;32m      1\u001b[0m my_variable \u001b[38;5;241m=\u001b[39m \u001b[38;5;241m567\u001b[39m\n\u001b[1;32m----> 2\u001b[0m \u001b[38;5;28mprint\u001b[39m (\u001b[38;5;124m\"\u001b[39m\u001b[38;5;124mel valor de my_variable d es:\u001b[39m\u001b[38;5;124m\"\u001b[39m, my_variable)\n",
      "\u001b[1;31mTypeError\u001b[0m: str() argument 'encoding' must be str, not int"
     ]
    }
   ],
   "source": [
    "my_variable = 567\n",
    "print (\"el valor de my_variable d es:\", my_variable)"
   ]
  },
  {
   "cell_type": "code",
   "execution_count": null,
   "id": "82850c76-7cab-4428-aa31-694ddbf2179b",
   "metadata": {},
   "outputs": [],
   "source": []
  },
  {
   "cell_type": "code",
   "execution_count": 171,
   "id": "04d5d551-9e80-446d-8a84-bc3eddf1bd6d",
   "metadata": {},
   "outputs": [
    {
     "ename": "TypeError",
     "evalue": "str() argument 'encoding' must be str, not int",
     "output_type": "error",
     "traceback": [
      "\u001b[1;31m---------------------------------------------------------------------------\u001b[0m",
      "\u001b[1;31mTypeError\u001b[0m                                 Traceback (most recent call last)",
      "Cell \u001b[1;32mIn[171], line 5\u001b[0m\n\u001b[0;32m      3\u001b[0m c\u001b[38;5;241m=\u001b[39m\u001b[38;5;241m200\u001b[39m\n\u001b[0;32m      4\u001b[0m d\u001b[38;5;241m=\u001b[39ma\u001b[38;5;241m+\u001b[39mb\u001b[38;5;241m+\u001b[39mc\n\u001b[1;32m----> 5\u001b[0m \u001b[38;5;28mprint\u001b[39m(\u001b[38;5;124m\"\u001b[39m\u001b[38;5;124mel valor de d es :\u001b[39m\u001b[38;5;124m\"\u001b[39m,d)\n",
      "\u001b[1;31mTypeError\u001b[0m: str() argument 'encoding' must be str, not int"
     ]
    }
   ],
   "source": [
    "a=100\n",
    "b=500\n",
    "c=200\n",
    "d=a+b+c\n",
    "print(\"el valor de d es :\",d)"
   ]
  },
  {
   "cell_type": "code",
   "execution_count": 92,
   "id": "8afea205-7af0-482b-a624-043fc352f726",
   "metadata": {},
   "outputs": [],
   "source": [
    "import builtins"
   ]
  },
  {
   "cell_type": "code",
   "execution_count": 93,
   "id": "f13ee551-f7b3-4fba-a5b6-893adebf29ed",
   "metadata": {},
   "outputs": [
    {
     "name": "stdout",
     "output_type": "stream",
     "text": [
      "Help on built-in function print in module builtins:\n",
      "\n",
      "print(*args, sep=' ', end='\\n', file=None, flush=False)\n",
      "    Prints the values to a stream, or to sys.stdout by default.\n",
      "    \n",
      "    sep\n",
      "      string inserted between values, default a space.\n",
      "    end\n",
      "      string appended after the last value, default a newline.\n",
      "    file\n",
      "      a file-like object (stream); defaults to the current sys.stdout.\n",
      "    flush\n",
      "      whether to forcibly flush the stream.\n",
      "\n"
     ]
    }
   ],
   "source": [
    "help(builtins.print)"
   ]
  },
  {
   "cell_type": "code",
   "execution_count": 94,
   "id": "c48ec682-af55-4138-8c2b-d9ece235d3e3",
   "metadata": {},
   "outputs": [
    {
     "name": "stdout",
     "output_type": "stream",
     "text": [
      "Help on built-in function print in module builtins:\n",
      "\n",
      "print(*args, sep=' ', end='\\n', file=None, flush=False)\n",
      "    Prints the values to a stream, or to sys.stdout by default.\n",
      "    \n",
      "    sep\n",
      "      string inserted between values, default a space.\n",
      "    end\n",
      "      string appended after the last value, default a newline.\n",
      "    file\n",
      "      a file-like object (stream); defaults to the current sys.stdout.\n",
      "    flush\n",
      "      whether to forcibly flush the stream.\n",
      "\n"
     ]
    }
   ],
   "source": [
    "help(print)"
   ]
  },
  {
   "cell_type": "code",
   "execution_count": 95,
   "id": "57c1462c-7ace-4fe5-b786-a842cda32eb6",
   "metadata": {},
   "outputs": [
    {
     "data": {
      "text/plain": [
       "['ArithmeticError',\n",
       " 'AssertionError',\n",
       " 'AttributeError',\n",
       " 'BaseException',\n",
       " 'BaseExceptionGroup',\n",
       " 'BlockingIOError',\n",
       " 'BrokenPipeError',\n",
       " 'BufferError',\n",
       " 'BytesWarning',\n",
       " 'ChildProcessError',\n",
       " 'ConnectionAbortedError',\n",
       " 'ConnectionError',\n",
       " 'ConnectionRefusedError',\n",
       " 'ConnectionResetError',\n",
       " 'DeprecationWarning',\n",
       " 'EOFError',\n",
       " 'Ellipsis',\n",
       " 'EncodingWarning',\n",
       " 'EnvironmentError',\n",
       " 'Exception',\n",
       " 'ExceptionGroup',\n",
       " 'False',\n",
       " 'FileExistsError',\n",
       " 'FileNotFoundError',\n",
       " 'FloatingPointError',\n",
       " 'FutureWarning',\n",
       " 'GeneratorExit',\n",
       " 'IOError',\n",
       " 'ImportError',\n",
       " 'ImportWarning',\n",
       " 'IndentationError',\n",
       " 'IndexError',\n",
       " 'InterruptedError',\n",
       " 'IsADirectoryError',\n",
       " 'KeyError',\n",
       " 'KeyboardInterrupt',\n",
       " 'LookupError',\n",
       " 'MemoryError',\n",
       " 'ModuleNotFoundError',\n",
       " 'NameError',\n",
       " 'None',\n",
       " 'NotADirectoryError',\n",
       " 'NotImplemented',\n",
       " 'NotImplementedError',\n",
       " 'OSError',\n",
       " 'OverflowError',\n",
       " 'PendingDeprecationWarning',\n",
       " 'PermissionError',\n",
       " 'ProcessLookupError',\n",
       " 'RecursionError',\n",
       " 'ReferenceError',\n",
       " 'ResourceWarning',\n",
       " 'RuntimeError',\n",
       " 'RuntimeWarning',\n",
       " 'StopAsyncIteration',\n",
       " 'StopIteration',\n",
       " 'SyntaxError',\n",
       " 'SyntaxWarning',\n",
       " 'SystemError',\n",
       " 'SystemExit',\n",
       " 'TabError',\n",
       " 'TimeoutError',\n",
       " 'True',\n",
       " 'TypeError',\n",
       " 'UnboundLocalError',\n",
       " 'UnicodeDecodeError',\n",
       " 'UnicodeEncodeError',\n",
       " 'UnicodeError',\n",
       " 'UnicodeTranslateError',\n",
       " 'UnicodeWarning',\n",
       " 'UserWarning',\n",
       " 'ValueError',\n",
       " 'Warning',\n",
       " 'WindowsError',\n",
       " 'ZeroDivisionError',\n",
       " '__IPYTHON__',\n",
       " '__build_class__',\n",
       " '__debug__',\n",
       " '__doc__',\n",
       " '__import__',\n",
       " '__loader__',\n",
       " '__name__',\n",
       " '__package__',\n",
       " '__spec__',\n",
       " 'abs',\n",
       " 'aiter',\n",
       " 'all',\n",
       " 'anext',\n",
       " 'any',\n",
       " 'ascii',\n",
       " 'bin',\n",
       " 'bool',\n",
       " 'breakpoint',\n",
       " 'bytearray',\n",
       " 'bytes',\n",
       " 'callable',\n",
       " 'chr',\n",
       " 'classmethod',\n",
       " 'compile',\n",
       " 'complex',\n",
       " 'copyright',\n",
       " 'credits',\n",
       " 'delattr',\n",
       " 'dict',\n",
       " 'dir',\n",
       " 'display',\n",
       " 'divmod',\n",
       " 'enumerate',\n",
       " 'eval',\n",
       " 'exec',\n",
       " 'execfile',\n",
       " 'filter',\n",
       " 'float',\n",
       " 'format',\n",
       " 'frozenset',\n",
       " 'get_ipython',\n",
       " 'getattr',\n",
       " 'globals',\n",
       " 'hasattr',\n",
       " 'hash',\n",
       " 'help',\n",
       " 'hex',\n",
       " 'id',\n",
       " 'input',\n",
       " 'int',\n",
       " 'isinstance',\n",
       " 'issubclass',\n",
       " 'iter',\n",
       " 'len',\n",
       " 'license',\n",
       " 'list',\n",
       " 'locals',\n",
       " 'map',\n",
       " 'max',\n",
       " 'memoryview',\n",
       " 'min',\n",
       " 'next',\n",
       " 'object',\n",
       " 'oct',\n",
       " 'open',\n",
       " 'ord',\n",
       " 'pow',\n",
       " 'print',\n",
       " 'property',\n",
       " 'range',\n",
       " 'repr',\n",
       " 'reversed',\n",
       " 'round',\n",
       " 'runfile',\n",
       " 'set',\n",
       " 'setattr',\n",
       " 'slice',\n",
       " 'sorted',\n",
       " 'staticmethod',\n",
       " 'str',\n",
       " 'sum',\n",
       " 'super',\n",
       " 'tuple',\n",
       " 'type',\n",
       " 'vars',\n",
       " 'zip']"
      ]
     },
     "execution_count": 95,
     "metadata": {},
     "output_type": "execute_result"
    }
   ],
   "source": [
    "dir(builtins)"
   ]
  },
  {
   "cell_type": "code",
   "execution_count": 177,
   "id": "b7a9917c-9fd2-4204-a18a-c79e42eea99e",
   "metadata": {},
   "outputs": [
    {
     "data": {
      "text/plain": [
       "'570'"
      ]
     },
     "execution_count": 177,
     "metadata": {},
     "output_type": "execute_result"
    }
   ],
   "source": [
    "my_number=570\n",
    "print (my_number)"
   ]
  },
  {
   "cell_type": "code",
   "execution_count": 178,
   "id": "e0a05cbe-b623-4843-8d74-7ba8282c5584",
   "metadata": {},
   "outputs": [
    {
     "data": {
      "text/plain": [
       "\"<class 'bool'>\""
      ]
     },
     "execution_count": 178,
     "metadata": {},
     "output_type": "execute_result"
    }
   ],
   "source": [
    "# Entero  / int\n",
    "my_string = False\n",
    "print(my_string)\n",
    "print (type(my_string))"
   ]
  },
  {
   "cell_type": "code",
   "execution_count": 166,
   "id": "ef596979-f13a-4a44-8bcf-515091a64f24",
   "metadata": {},
   "outputs": [
    {
     "ename": "TypeError",
     "evalue": "unhashable type: 'set'",
     "output_type": "error",
     "traceback": [
      "\u001b[1;31m---------------------------------------------------------------------------\u001b[0m",
      "\u001b[1;31mTypeError\u001b[0m                                 Traceback (most recent call last)",
      "Cell \u001b[1;32mIn[166], line 9\u001b[0m\n\u001b[0;32m      7\u001b[0m my_list\u001b[38;5;241m=\u001b[39m(\u001b[38;5;241m1\u001b[39m,\u001b[38;5;241m2\u001b[39m,\u001b[38;5;241m3\u001b[39m,\u001b[38;5;241m4\u001b[39m,\u001b[38;5;241m5\u001b[39m)\n\u001b[0;32m      8\u001b[0m My_list\u001b[38;5;241m=\u001b[39m \u001b[38;5;241m570\u001b[39m\n\u001b[1;32m----> 9\u001b[0m kl\u001b[38;5;241m=\u001b[39m { \u001b[38;5;241m55\u001b[39m,\u001b[38;5;124m\"\u001b[39m\u001b[38;5;124mskjr\u001b[39m\u001b[38;5;124m\"\u001b[39m, (\u001b[38;5;241m3\u001b[39m,\u001b[38;5;241m5\u001b[39m,),{\u001b[38;5;241m1\u001b[39m,\u001b[38;5;241m2\u001b[39m,\u001b[38;5;241m3\u001b[39m}}\n\u001b[0;32m     10\u001b[0m \u001b[38;5;28mprint\u001b[39m(kl)\n\u001b[0;32m     11\u001b[0m \u001b[38;5;28mprint\u001b[39m(\u001b[38;5;28mtype\u001b[39m(kl))\n",
      "\u001b[1;31mTypeError\u001b[0m: unhashable type: 'set'"
     ]
    }
   ],
   "source": [
    "# listas / list ( estructuras de datos:agrupan distintos elementos que deben usar\n",
    "# listas deben usar--> :, [  ],  para encapsular sus datos )\n",
    "# tuplas deben usar ---> :,  ( )  , para encapsular sus datos \n",
    "# set deben usar -->:,   {   } , para encapsular sus datos\n",
    "#nota: no pude meter una lista dentro de un set y otro set dentro de otro set tampoco\n",
    "\n",
    "my_list=(1,2,3,4,5)\n",
    "My_list= 570\n",
    "kl= { 55,\"skjr\", (3,5,),{1,2,3}}\n",
    "print(kl)\n",
    "print(type(kl))"
   ]
  },
  {
   "cell_type": "code",
   "execution_count": 165,
   "id": "08eb5170-6ea4-4c0a-b78d-0630ad775efa",
   "metadata": {},
   "outputs": [
    {
     "data": {
      "text/plain": [
       "\"<class 'dict'>\""
      ]
     },
     "execution_count": 165,
     "metadata": {},
     "output_type": "execute_result"
    }
   ],
   "source": [
    "#dictonary, / diccionarios / dict \n",
    "My_dictionary = { \"A\":20, \"b\": (2.2,25,5) , \"ee\" : 5}\n",
    "print(My_dictionary)\n",
    "print(type(My_dictionary))"
   ]
  },
  {
   "cell_type": "code",
   "execution_count": null,
   "id": "8fe349c0-bd9f-4bb0-8770-431ef4ff164b",
   "metadata": {},
   "outputs": [],
   "source": [
    "# funcion id \n",
    "# id () funcion para de finir la direccion de memoria "
   ]
  },
  {
   "cell_type": "code",
   "execution_count": 1,
   "id": "c859bec8-15ca-48b6-8032-c302d249d3f7",
   "metadata": {},
   "outputs": [
    {
     "name": "stdout",
     "output_type": "stream",
     "text": [
      "python\n",
      "<class 'str'>\n",
      "1587357752048\n"
     ]
    }
   ],
   "source": [
    "# cadena / string\n",
    "My_str=\"python\"\n",
    "print(My_str)\n",
    "print(type(My_str))\n",
    "print(id(My_str))"
   ]
  },
  {
   "cell_type": "code",
   "execution_count": null,
   "id": "5e3a1920-c54b-45bc-abae-3f75590c7696",
   "metadata": {},
   "outputs": [],
   "source": []
  },
  {
   "cell_type": "code",
   "execution_count": 3,
   "id": "be990ebf-0a13-4343-b820-566bce63c5bb",
   "metadata": {},
   "outputs": [
    {
     "name": "stdout",
     "output_type": "stream",
     "text": [
      "python\n",
      "python\n",
      "<class 'str'>\n",
      "<class 'str'>\n",
      "1587357752048\n",
      "1587357752048\n"
     ]
    }
   ],
   "source": [
    "# cadena / string\n",
    "My_str=\"python\"\n",
    "My_str2=\"python\"\n",
    "print(My_str)\n",
    "print(My_str2)\n",
    "print(type(My_str))\n",
    "print(type(My_str))\n",
    "print(id(My_str))\n",
    "print(id(My_str2))"
   ]
  },
  {
   "cell_type": "markdown",
   "id": "4eb758c3-74af-4bc7-9f17-3690db6a3e2e",
   "metadata": {},
   "source": [
    "# multiples valores de entrada "
   ]
  },
  {
   "cell_type": "code",
   "execution_count": 5,
   "id": "f55c33fd-5fcb-4a93-9384-f980b6a10e07",
   "metadata": {},
   "outputs": [
    {
     "name": "stdin",
     "output_type": "stream",
     "text": [
      "ingresa el valor de my_num1: 750\n"
     ]
    },
    {
     "name": "stdout",
     "output_type": "stream",
     "text": [
      "el valor de mi_nunerrrr es ss s ss s : 750\n"
     ]
    }
   ],
   "source": [
    "\n",
    "# asirgnar un valor a un variable usando input:\n",
    "\n",
    "my_num1 = input ( \"ingresa el valor de my_num1:\")\n",
    "print(\"el valor de mi_nunerrrr es ss s ss s :\",my_num1)\n",
    "\n"
   ]
  },
  {
   "cell_type": "markdown",
   "id": "7c9b2349-3e86-410e-b65f-758969049c75",
   "metadata": {},
   "source": [
    "## usando multiples variables de entrada con input\n",
    "# split() = separa cadenas\n",
    "\n",
    "a,b,c = input(\"ingresa 3 valores ::::\").split()\n",
    "print(\"el valor de mi_nunerrrr es ss s ss a :\",a)\n",
    "print(\"el valor de mi_nunerrrr es ss s ss b :\",b)\n",
    "print(\"el valor de mi_nunerrrr es ss s ss c :\",c)"
   ]
  },
  {
   "cell_type": "code",
   "execution_count": 14,
   "id": "f1a102a9-5040-47a5-bbe5-c4f254cba209",
   "metadata": {},
   "outputs": [
    {
     "name": "stdin",
     "output_type": "stream",
     "text": [
      "ingresa 3 valores separador por coma :::: yyyy\n"
     ]
    },
    {
     "ename": "ValueError",
     "evalue": "not enough values to unpack (expected 3, got 1)",
     "output_type": "error",
     "traceback": [
      "\u001b[1;31m---------------------------------------------------------------------------\u001b[0m",
      "\u001b[1;31mValueError\u001b[0m                                Traceback (most recent call last)",
      "Cell \u001b[1;32mIn[14], line 5\u001b[0m\n\u001b[0;32m      1\u001b[0m \u001b[38;5;66;03m# usando multiples variables de entrada con input\u001b[39;00m\n\u001b[0;32m      2\u001b[0m \u001b[38;5;66;03m# split() = separa cadenas\u001b[39;00m\n\u001b[0;32m      3\u001b[0m \u001b[38;5;66;03m# separados por coma\u001b[39;00m\n\u001b[1;32m----> 5\u001b[0m a,b,c \u001b[38;5;241m=\u001b[39m \u001b[38;5;28minput\u001b[39m(\u001b[38;5;124m\"\u001b[39m\u001b[38;5;124mingresa 3 valores separador por coma ::::\u001b[39m\u001b[38;5;124m\"\u001b[39m)\u001b[38;5;241m.\u001b[39msplit(\u001b[38;5;124m\"\u001b[39m\u001b[38;5;124m,\u001b[39m\u001b[38;5;124m\"\u001b[39m)\n\u001b[0;32m      6\u001b[0m \u001b[38;5;28mprint\u001b[39m(\u001b[38;5;124m\"\u001b[39m\u001b[38;5;124mel valor de mi_nunerrrr es ss s ss a :\u001b[39m\u001b[38;5;124m\"\u001b[39m,a)\n\u001b[0;32m      7\u001b[0m \u001b[38;5;28mprint\u001b[39m(\u001b[38;5;124m\"\u001b[39m\u001b[38;5;124mel valor de mi_nunerrrr es ss s ss b :\u001b[39m\u001b[38;5;124m\"\u001b[39m,b)\n",
      "\u001b[1;31mValueError\u001b[0m: not enough values to unpack (expected 3, got 1)"
     ]
    }
   ],
   "source": [
    "# usando multiples variables de entrada con input\n",
    "# split() = separa cadenas\n",
    "# separados por coma\n",
    "\n",
    "a,b,c = input(\"ingresa 3 valores separador por coma ::::\").split(\",\")\n",
    "print(\"el valor de mi_nunerrrr es ss s ss a :\",a)\n",
    "print(\"el valor de mi_nunerrrr es ss s ss b :\",b)\n",
    "print(\"el valor de mi_nunerrrr es ss s ss c :\",c)"
   ]
  },
  {
   "cell_type": "code",
   "execution_count": null,
   "id": "359578fe-31c9-4f66-960d-194bd5767459",
   "metadata": {},
   "outputs": [],
   "source": []
  }
 ],
 "metadata": {
  "kernelspec": {
   "display_name": "Python 3 (ipykernel)",
   "language": "python",
   "name": "python3"
  },
  "language_info": {
   "codemirror_mode": {
    "name": "ipython",
    "version": 3
   },
   "file_extension": ".py",
   "mimetype": "text/x-python",
   "name": "python",
   "nbconvert_exporter": "python",
   "pygments_lexer": "ipython3",
   "version": "3.11.5"
  }
 },
 "nbformat": 4,
 "nbformat_minor": 5
}
